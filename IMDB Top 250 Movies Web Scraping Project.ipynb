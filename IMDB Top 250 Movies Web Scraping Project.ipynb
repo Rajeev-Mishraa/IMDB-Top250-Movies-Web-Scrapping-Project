{
 "cells": [
  {
   "cell_type": "markdown",
   "id": "0058c211",
   "metadata": {},
   "source": [
    "<img src='https://sprcdn-assets.sprinklr.com/674/8b955864-7307-4d41-8ded-c194170f5305-2729152590.jpg' alt=\"Alt Text\" style=\"height: 250px; width: 1000px;\">"
   ]
  },
  {
   "cell_type": "markdown",
   "id": "984cc062",
   "metadata": {},
   "source": [
    "# Extracted Data of Top 250 Movies from IMDB Website"
   ]
  },
  {
   "cell_type": "code",
   "execution_count": 1,
   "id": "417bec5d",
   "metadata": {},
   "outputs": [],
   "source": [
    "import requests\n",
    "from bs4 import BeautifulSoup\n",
    "import bs4\n",
    "from bs4 import BeautifulSoup\n",
    "\n",
    "url = 'https://www.imdb.com/chart/top/'\n",
    "#As the server refuse to authorize request so created user header\n",
    "headers = {'User-Agent': 'Mozilla/5.0 (Windows NT 10.0; Win64; x64) AppleWebKit/537.36 (KHTML, like Gecko) Chrome/91.0.4472.124 Safari/537.36'}\n",
    "\n",
    "response = requests.get(url, headers=headers)\n",
    "\n",
    "if response.status_code == 200:\n",
    "    soup = BeautifulSoup(response.text, 'html.parser')\n",
    "\n",
    "else:\n",
    "    print(f\"Error: {response.status_code}\")\n"
   ]
  },
  {
   "cell_type": "code",
   "execution_count": 2,
   "id": "13137e58",
   "metadata": {},
   "outputs": [
    {
     "data": {
      "text/plain": [
       "(bs4.element.ResultSet, 250)"
      ]
     },
     "execution_count": 2,
     "metadata": {},
     "output_type": "execute_result"
    }
   ],
   "source": [
    "# Find the movie containers\n",
    "containers = soup.find_all('li', class_ = 'ipc-metadata-list-summary-item')\n",
    "type(containers), len(containers)"
   ]
  },
  {
   "cell_type": "code",
   "execution_count": 3,
   "id": "5afbf70d",
   "metadata": {},
   "outputs": [],
   "source": [
    "# Lists to store Movie Title, Stars, and Ratings, Release Year\n",
    "movie_title = []\n",
    "movie_stars = []\n",
    "movie_ratings = []\n",
    "release_year = []\n",
    "movie_duration = []\n",
    "movie_url = []\n",
    "\n",
    "# Extract Movie information\n",
    "for container in containers:\n",
    "    #Extracting movie title\n",
    "    title = container.find('h3', class_ = 'ipc-title__text').text.strip().split('.')[1]\n",
    "    movie_title.append(title)\n",
    "    \n",
    "    #Extracting movie stars\n",
    "    stars = container.find('span', class_ = 'ipc-rating-star ipc-rating-star--base ipc-rating-star--imdb ratingGroup--imdb-rating').text.strip()[0:4]\n",
    "    movie_stars.append(stars)\n",
    "    \n",
    "    Extracting moview ratings\n",
    "    ratings = container.find('span', class_ = 'ipc-rating-star--voteCount').text.strip().replace('(','').replace(')','').replace('K', '000').replace('M', '00000').replace('.','')\n",
    "    movie_ratings.append(ratings)\n",
    "    \n",
    "    #Extracting movie release year\n",
    "    year = container.find('span', class_ = 'sc-479faa3c-8 bNrEFi dli-title-metadata-item').text\n",
    "    release_year.append(year)\n",
    "    \n",
    "    #Extracting movie duration \n",
    "    duration = container.find_all('span', class_ = 'sc-479faa3c-8 bNrEFi cli-title-metadata-item')[1].text\n",
    "    movie_duration.append(duration)\n",
    "    \n",
    "    #Extracting imageURl \n",
    "    url = container.find('a', class_ = 'ipc-lockup-overlay ipc-focusable').get('href')\n",
    "    domain = 'https://www.imdb.com'\n",
    "    url_link = domain + url\n",
    "    movie_url.append(url_link)\n"
   ]
  },
  {
   "cell_type": "code",
   "execution_count": 4,
   "id": "48958e81",
   "metadata": {},
   "outputs": [],
   "source": [
    "data = {\"movie_title\": movie_title,\n",
    "     \"movie_stars\": movie_stars,\n",
    "     \"movie_ratings\": movie_ratings,\n",
    "     \"release_year\": release_year,\n",
    "     \"movie_duration\": movie_duration,\n",
    "     \"movie_url\": movie_url\n",
    "    }\n",
    "\n",
    "df = pd.DataFrame(data)"
   ]
  },
  {
   "cell_type": "code",
   "execution_count": 5,
   "id": "f23bef85",
   "metadata": {},
   "outputs": [],
   "source": [
    "df.to_csv('Top250_movies.csv')"
   ]
  },
  {
   "cell_type": "markdown",
   "id": "9ed2392f",
   "metadata": {},
   "source": [
    "## Exploratory Data Analysis (EDA)"
   ]
  },
  {
   "cell_type": "code",
   "execution_count": 6,
   "id": "e3b19c27",
   "metadata": {},
   "outputs": [],
   "source": [
    "import pandas as pd\n",
    "import numpy as np\n",
    "import matplotlib.pyplot as plt\n",
    "%matplotlib inline\n",
    "import seaborn as sns"
   ]
  },
  {
   "cell_type": "code",
   "execution_count": 7,
   "id": "bc9e1b7e",
   "metadata": {},
   "outputs": [],
   "source": [
    "df1 = pd.read_csv('C:\\\\Users\\\\rm217\\\\OneDrive\\\\Desktop\\\\Python\\\\Complete Python\\\\Web Srapping\\\\Top250_movies.csv', encoding='unicode_escape')\n"
   ]
  },
  {
   "cell_type": "code",
   "execution_count": 8,
   "id": "a3861bb4",
   "metadata": {},
   "outputs": [
    {
     "data": {
      "text/html": [
       "<div>\n",
       "<style scoped>\n",
       "    .dataframe tbody tr th:only-of-type {\n",
       "        vertical-align: middle;\n",
       "    }\n",
       "\n",
       "    .dataframe tbody tr th {\n",
       "        vertical-align: top;\n",
       "    }\n",
       "\n",
       "    .dataframe thead th {\n",
       "        text-align: right;\n",
       "    }\n",
       "</style>\n",
       "<table border=\"1\" class=\"dataframe\">\n",
       "  <thead>\n",
       "    <tr style=\"text-align: right;\">\n",
       "      <th></th>\n",
       "      <th>Unnamed: 0</th>\n",
       "      <th>movie_title</th>\n",
       "      <th>movie_stars</th>\n",
       "      <th>movie_ratings</th>\n",
       "      <th>release_year</th>\n",
       "      <th>movie_duration</th>\n",
       "      <th>movie_url</th>\n",
       "    </tr>\n",
       "  </thead>\n",
       "  <tbody>\n",
       "    <tr>\n",
       "      <th>0</th>\n",
       "      <td>0</td>\n",
       "      <td>The Shawshank Redemption</td>\n",
       "      <td>9.3</td>\n",
       "      <td>2800000</td>\n",
       "      <td>1994</td>\n",
       "      <td>2h 22m</td>\n",
       "      <td>https://www.imdb.com/title/tt0111161/?ref_=cht...</td>\n",
       "    </tr>\n",
       "    <tr>\n",
       "      <th>1</th>\n",
       "      <td>1</td>\n",
       "      <td>The Godfather</td>\n",
       "      <td>9.2</td>\n",
       "      <td>200000</td>\n",
       "      <td>1972</td>\n",
       "      <td>2h 55m</td>\n",
       "      <td>https://www.imdb.com/title/tt0068646/?ref_=cht...</td>\n",
       "    </tr>\n",
       "    <tr>\n",
       "      <th>2</th>\n",
       "      <td>2</td>\n",
       "      <td>The Dark Knight</td>\n",
       "      <td>9.0</td>\n",
       "      <td>2800000</td>\n",
       "      <td>2008</td>\n",
       "      <td>2h 32m</td>\n",
       "      <td>https://www.imdb.com/title/tt0468569/?ref_=cht...</td>\n",
       "    </tr>\n",
       "    <tr>\n",
       "      <th>3</th>\n",
       "      <td>3</td>\n",
       "      <td>The Godfather: Part II</td>\n",
       "      <td>9.0</td>\n",
       "      <td>1300000</td>\n",
       "      <td>1974</td>\n",
       "      <td>3h 22m</td>\n",
       "      <td>https://www.imdb.com/title/tt0071562/?ref_=cht...</td>\n",
       "    </tr>\n",
       "    <tr>\n",
       "      <th>4</th>\n",
       "      <td>4</td>\n",
       "      <td>12 Angry Men</td>\n",
       "      <td>9.0</td>\n",
       "      <td>843000</td>\n",
       "      <td>1957</td>\n",
       "      <td>1h 36m</td>\n",
       "      <td>https://www.imdb.com/title/tt0050083/?ref_=cht...</td>\n",
       "    </tr>\n",
       "  </tbody>\n",
       "</table>\n",
       "</div>"
      ],
      "text/plain": [
       "   Unnamed: 0                movie_title movie_stars  movie_ratings  \\\n",
       "0           0   The Shawshank Redemption        9.3         2800000   \n",
       "1           1              The Godfather        9.2          200000   \n",
       "2           2            The Dark Knight        9.0         2800000   \n",
       "3           3     The Godfather: Part II        9.0         1300000   \n",
       "4           4               12 Angry Men        9.0          843000   \n",
       "\n",
       "   release_year movie_duration  \\\n",
       "0          1994         2h 22m   \n",
       "1          1972         2h 55m   \n",
       "2          2008         2h 32m   \n",
       "3          1974         3h 22m   \n",
       "4          1957         1h 36m   \n",
       "\n",
       "                                           movie_url  \n",
       "0  https://www.imdb.com/title/tt0111161/?ref_=cht...  \n",
       "1  https://www.imdb.com/title/tt0068646/?ref_=cht...  \n",
       "2  https://www.imdb.com/title/tt0468569/?ref_=cht...  \n",
       "3  https://www.imdb.com/title/tt0071562/?ref_=cht...  \n",
       "4  https://www.imdb.com/title/tt0050083/?ref_=cht...  "
      ]
     },
     "execution_count": 8,
     "metadata": {},
     "output_type": "execute_result"
    }
   ],
   "source": [
    "df1.head()"
   ]
  },
  {
   "cell_type": "code",
   "execution_count": 9,
   "id": "d29ee566",
   "metadata": {},
   "outputs": [
    {
     "data": {
      "text/plain": [
       "(250, 7)"
      ]
     },
     "execution_count": 9,
     "metadata": {},
     "output_type": "execute_result"
    }
   ],
   "source": [
    "df1.shape"
   ]
  },
  {
   "cell_type": "code",
   "execution_count": 10,
   "id": "6e0a74d3",
   "metadata": {},
   "outputs": [
    {
     "name": "stdout",
     "output_type": "stream",
     "text": [
      "<class 'pandas.core.frame.DataFrame'>\n",
      "RangeIndex: 250 entries, 0 to 249\n",
      "Data columns (total 7 columns):\n",
      " #   Column          Non-Null Count  Dtype \n",
      "---  ------          --------------  ----- \n",
      " 0   Unnamed: 0      250 non-null    int64 \n",
      " 1   movie_title     250 non-null    object\n",
      " 2   movie_stars     250 non-null    object\n",
      " 3   movie_ratings   250 non-null    int64 \n",
      " 4   release_year    250 non-null    int64 \n",
      " 5   movie_duration  250 non-null    object\n",
      " 6   movie_url       250 non-null    object\n",
      "dtypes: int64(3), object(4)\n",
      "memory usage: 13.8+ KB\n"
     ]
    }
   ],
   "source": [
    "df1.info()"
   ]
  },
  {
   "cell_type": "code",
   "execution_count": 11,
   "id": "17555fe1",
   "metadata": {},
   "outputs": [
    {
     "data": {
      "text/plain": [
       "0      9.3 \n",
       "1      9.2 \n",
       "2      9.0 \n",
       "3      9.0 \n",
       "4      9.0 \n",
       "       ... \n",
       "245    8.1 \n",
       "246    8.0 \n",
       "247    8.0 \n",
       "248    8.1 \n",
       "249    8.0 \n",
       "Name: movie_stars, Length: 250, dtype: object"
      ]
     },
     "execution_count": 11,
     "metadata": {},
     "output_type": "execute_result"
    }
   ],
   "source": [
    "df1['movie_stars']"
   ]
  },
  {
   "cell_type": "code",
   "execution_count": 12,
   "id": "c50e35a8",
   "metadata": {},
   "outputs": [],
   "source": [
    "#change datatype of moive movie stars column\n",
    "df1['movie_stars'] = df1['movie_stars'].astype('float')"
   ]
  },
  {
   "cell_type": "code",
   "execution_count": 13,
   "id": "5f1798e0",
   "metadata": {},
   "outputs": [
    {
     "name": "stdout",
     "output_type": "stream",
     "text": [
      "<class 'pandas.core.frame.DataFrame'>\n",
      "RangeIndex: 250 entries, 0 to 249\n",
      "Data columns (total 7 columns):\n",
      " #   Column          Non-Null Count  Dtype  \n",
      "---  ------          --------------  -----  \n",
      " 0   Unnamed: 0      250 non-null    int64  \n",
      " 1   movie_title     250 non-null    object \n",
      " 2   movie_stars     250 non-null    float64\n",
      " 3   movie_ratings   250 non-null    int64  \n",
      " 4   release_year    250 non-null    int64  \n",
      " 5   movie_duration  250 non-null    object \n",
      " 6   movie_url       250 non-null    object \n",
      "dtypes: float64(1), int64(3), object(3)\n",
      "memory usage: 13.8+ KB\n"
     ]
    }
   ],
   "source": [
    "#Updated data columns\n",
    "df1.info()"
   ]
  },
  {
   "cell_type": "code",
   "execution_count": 14,
   "id": "b3b00d17",
   "metadata": {},
   "outputs": [
    {
     "data": {
      "text/plain": [
       "Unnamed: 0        0\n",
       "movie_title       0\n",
       "movie_stars       0\n",
       "movie_ratings     0\n",
       "release_year      0\n",
       "movie_duration    0\n",
       "movie_url         0\n",
       "dtype: int64"
      ]
     },
     "execution_count": 14,
     "metadata": {},
     "output_type": "execute_result"
    }
   ],
   "source": [
    "#Checking the null values in data\n",
    "df1.isnull().sum()\n",
    "\n",
    "#Used to remove duplicates\n",
    "# df1.dropna()"
   ]
  },
  {
   "cell_type": "code",
   "execution_count": 15,
   "id": "c1db210b",
   "metadata": {},
   "outputs": [
    {
     "data": {
      "text/plain": [
       "0      False\n",
       "1      False\n",
       "2      False\n",
       "3      False\n",
       "4      False\n",
       "       ...  \n",
       "245    False\n",
       "246    False\n",
       "247    False\n",
       "248    False\n",
       "249    False\n",
       "Length: 250, dtype: bool"
      ]
     },
     "execution_count": 15,
     "metadata": {},
     "output_type": "execute_result"
    }
   ],
   "source": [
    "#To check duplicate entries\n",
    "df1.duplicated()\n",
    "\n",
    "#Used to drop duplicates\n",
    "# df1.drop_duplicates().head()"
   ]
  },
  {
   "cell_type": "code",
   "execution_count": 16,
   "id": "380155ea",
   "metadata": {},
   "outputs": [
    {
     "data": {
      "text/html": [
       "<div>\n",
       "<style scoped>\n",
       "    .dataframe tbody tr th:only-of-type {\n",
       "        vertical-align: middle;\n",
       "    }\n",
       "\n",
       "    .dataframe tbody tr th {\n",
       "        vertical-align: top;\n",
       "    }\n",
       "\n",
       "    .dataframe thead th {\n",
       "        text-align: right;\n",
       "    }\n",
       "</style>\n",
       "<table border=\"1\" class=\"dataframe\">\n",
       "  <thead>\n",
       "    <tr style=\"text-align: right;\">\n",
       "      <th></th>\n",
       "      <th>Unnamed: 0</th>\n",
       "      <th>movie_title</th>\n",
       "      <th>movie_stars</th>\n",
       "      <th>movie_ratings</th>\n",
       "      <th>release_year</th>\n",
       "      <th>movie_duration</th>\n",
       "      <th>movie_url</th>\n",
       "    </tr>\n",
       "  </thead>\n",
       "  <tbody>\n",
       "    <tr>\n",
       "      <th>count</th>\n",
       "      <td>250.000000</td>\n",
       "      <td>250</td>\n",
       "      <td>250.00000</td>\n",
       "      <td>2.500000e+02</td>\n",
       "      <td>250.000000</td>\n",
       "      <td>250</td>\n",
       "      <td>250</td>\n",
       "    </tr>\n",
       "    <tr>\n",
       "      <th>unique</th>\n",
       "      <td>NaN</td>\n",
       "      <td>250</td>\n",
       "      <td>NaN</td>\n",
       "      <td>NaN</td>\n",
       "      <td>NaN</td>\n",
       "      <td>102</td>\n",
       "      <td>250</td>\n",
       "    </tr>\n",
       "    <tr>\n",
       "      <th>top</th>\n",
       "      <td>NaN</td>\n",
       "      <td>The Shawshank Redemption</td>\n",
       "      <td>NaN</td>\n",
       "      <td>NaN</td>\n",
       "      <td>NaN</td>\n",
       "      <td>2h 10m</td>\n",
       "      <td>https://www.imdb.com/title/tt0111161/?ref_=cht...</td>\n",
       "    </tr>\n",
       "    <tr>\n",
       "      <th>freq</th>\n",
       "      <td>NaN</td>\n",
       "      <td>1</td>\n",
       "      <td>NaN</td>\n",
       "      <td>NaN</td>\n",
       "      <td>NaN</td>\n",
       "      <td>9</td>\n",
       "      <td>1</td>\n",
       "    </tr>\n",
       "    <tr>\n",
       "      <th>mean</th>\n",
       "      <td>124.500000</td>\n",
       "      <td>NaN</td>\n",
       "      <td>8.30560</td>\n",
       "      <td>6.256360e+05</td>\n",
       "      <td>1986.716000</td>\n",
       "      <td>NaN</td>\n",
       "      <td>NaN</td>\n",
       "    </tr>\n",
       "    <tr>\n",
       "      <th>std</th>\n",
       "      <td>72.312977</td>\n",
       "      <td>NaN</td>\n",
       "      <td>0.23174</td>\n",
       "      <td>5.266061e+05</td>\n",
       "      <td>25.324785</td>\n",
       "      <td>NaN</td>\n",
       "      <td>NaN</td>\n",
       "    </tr>\n",
       "    <tr>\n",
       "      <th>min</th>\n",
       "      <td>0.000000</td>\n",
       "      <td>NaN</td>\n",
       "      <td>8.00000</td>\n",
       "      <td>3.700000e+04</td>\n",
       "      <td>1921.000000</td>\n",
       "      <td>NaN</td>\n",
       "      <td>NaN</td>\n",
       "    </tr>\n",
       "    <tr>\n",
       "      <th>25%</th>\n",
       "      <td>62.250000</td>\n",
       "      <td>NaN</td>\n",
       "      <td>8.10000</td>\n",
       "      <td>2.000000e+05</td>\n",
       "      <td>1966.250000</td>\n",
       "      <td>NaN</td>\n",
       "      <td>NaN</td>\n",
       "    </tr>\n",
       "    <tr>\n",
       "      <th>50%</th>\n",
       "      <td>124.500000</td>\n",
       "      <td>NaN</td>\n",
       "      <td>8.20000</td>\n",
       "      <td>4.570000e+05</td>\n",
       "      <td>1994.000000</td>\n",
       "      <td>NaN</td>\n",
       "      <td>NaN</td>\n",
       "    </tr>\n",
       "    <tr>\n",
       "      <th>75%</th>\n",
       "      <td>186.750000</td>\n",
       "      <td>NaN</td>\n",
       "      <td>8.40000</td>\n",
       "      <td>8.947500e+05</td>\n",
       "      <td>2007.000000</td>\n",
       "      <td>NaN</td>\n",
       "      <td>NaN</td>\n",
       "    </tr>\n",
       "    <tr>\n",
       "      <th>max</th>\n",
       "      <td>249.000000</td>\n",
       "      <td>NaN</td>\n",
       "      <td>9.30000</td>\n",
       "      <td>2.800000e+06</td>\n",
       "      <td>2023.000000</td>\n",
       "      <td>NaN</td>\n",
       "      <td>NaN</td>\n",
       "    </tr>\n",
       "  </tbody>\n",
       "</table>\n",
       "</div>"
      ],
      "text/plain": [
       "        Unnamed: 0                movie_title  movie_stars  movie_ratings  \\\n",
       "count   250.000000                        250    250.00000   2.500000e+02   \n",
       "unique         NaN                        250          NaN            NaN   \n",
       "top            NaN   The Shawshank Redemption          NaN            NaN   \n",
       "freq           NaN                          1          NaN            NaN   \n",
       "mean    124.500000                        NaN      8.30560   6.256360e+05   \n",
       "std      72.312977                        NaN      0.23174   5.266061e+05   \n",
       "min       0.000000                        NaN      8.00000   3.700000e+04   \n",
       "25%      62.250000                        NaN      8.10000   2.000000e+05   \n",
       "50%     124.500000                        NaN      8.20000   4.570000e+05   \n",
       "75%     186.750000                        NaN      8.40000   8.947500e+05   \n",
       "max     249.000000                        NaN      9.30000   2.800000e+06   \n",
       "\n",
       "        release_year movie_duration  \\\n",
       "count     250.000000            250   \n",
       "unique           NaN            102   \n",
       "top              NaN         2h 10m   \n",
       "freq             NaN              9   \n",
       "mean     1986.716000            NaN   \n",
       "std        25.324785            NaN   \n",
       "min      1921.000000            NaN   \n",
       "25%      1966.250000            NaN   \n",
       "50%      1994.000000            NaN   \n",
       "75%      2007.000000            NaN   \n",
       "max      2023.000000            NaN   \n",
       "\n",
       "                                                movie_url  \n",
       "count                                                 250  \n",
       "unique                                                250  \n",
       "top     https://www.imdb.com/title/tt0111161/?ref_=cht...  \n",
       "freq                                                    1  \n",
       "mean                                                  NaN  \n",
       "std                                                   NaN  \n",
       "min                                                   NaN  \n",
       "25%                                                   NaN  \n",
       "50%                                                   NaN  \n",
       "75%                                                   NaN  \n",
       "max                                                   NaN  "
      ]
     },
     "execution_count": 16,
     "metadata": {},
     "output_type": "execute_result"
    }
   ],
   "source": [
    "df1.describe(include = 'all')"
   ]
  },
  {
   "cell_type": "markdown",
   "id": "b9101e33",
   "metadata": {},
   "source": [
    "###  Movie with highest rating"
   ]
  },
  {
   "cell_type": "code",
   "execution_count": 17,
   "id": "9f0c0700",
   "metadata": {},
   "outputs": [
    {
     "data": {
      "text/html": [
       "<div>\n",
       "<style scoped>\n",
       "    .dataframe tbody tr th:only-of-type {\n",
       "        vertical-align: middle;\n",
       "    }\n",
       "\n",
       "    .dataframe tbody tr th {\n",
       "        vertical-align: top;\n",
       "    }\n",
       "\n",
       "    .dataframe thead th {\n",
       "        text-align: right;\n",
       "    }\n",
       "</style>\n",
       "<table border=\"1\" class=\"dataframe\">\n",
       "  <thead>\n",
       "    <tr style=\"text-align: right;\">\n",
       "      <th></th>\n",
       "      <th>Unnamed: 0</th>\n",
       "      <th>movie_title</th>\n",
       "      <th>movie_stars</th>\n",
       "      <th>movie_ratings</th>\n",
       "      <th>release_year</th>\n",
       "      <th>movie_duration</th>\n",
       "      <th>movie_url</th>\n",
       "    </tr>\n",
       "  </thead>\n",
       "  <tbody>\n",
       "    <tr>\n",
       "      <th>0</th>\n",
       "      <td>0</td>\n",
       "      <td>The Shawshank Redemption</td>\n",
       "      <td>9.3</td>\n",
       "      <td>2800000</td>\n",
       "      <td>1994</td>\n",
       "      <td>2h 22m</td>\n",
       "      <td>https://www.imdb.com/title/tt0111161/?ref_=cht...</td>\n",
       "    </tr>\n",
       "    <tr>\n",
       "      <th>2</th>\n",
       "      <td>2</td>\n",
       "      <td>The Dark Knight</td>\n",
       "      <td>9.0</td>\n",
       "      <td>2800000</td>\n",
       "      <td>2008</td>\n",
       "      <td>2h 32m</td>\n",
       "      <td>https://www.imdb.com/title/tt0468569/?ref_=cht...</td>\n",
       "    </tr>\n",
       "  </tbody>\n",
       "</table>\n",
       "</div>"
      ],
      "text/plain": [
       "   Unnamed: 0                movie_title  movie_stars  movie_ratings  \\\n",
       "0           0   The Shawshank Redemption          9.3        2800000   \n",
       "2           2            The Dark Knight          9.0        2800000   \n",
       "\n",
       "   release_year movie_duration  \\\n",
       "0          1994         2h 22m   \n",
       "2          2008         2h 32m   \n",
       "\n",
       "                                           movie_url  \n",
       "0  https://www.imdb.com/title/tt0111161/?ref_=cht...  \n",
       "2  https://www.imdb.com/title/tt0468569/?ref_=cht...  "
      ]
     },
     "execution_count": 17,
     "metadata": {},
     "output_type": "execute_result"
    }
   ],
   "source": [
    "df1[df1['movie_ratings'] == max(df1['movie_ratings'])]"
   ]
  },
  {
   "cell_type": "code",
   "execution_count": 18,
   "id": "09344f36",
   "metadata": {},
   "outputs": [
    {
     "data": {
      "text/html": [
       "<div>\n",
       "<style scoped>\n",
       "    .dataframe tbody tr th:only-of-type {\n",
       "        vertical-align: middle;\n",
       "    }\n",
       "\n",
       "    .dataframe tbody tr th {\n",
       "        vertical-align: top;\n",
       "    }\n",
       "\n",
       "    .dataframe thead th {\n",
       "        text-align: right;\n",
       "    }\n",
       "</style>\n",
       "<table border=\"1\" class=\"dataframe\">\n",
       "  <thead>\n",
       "    <tr style=\"text-align: right;\">\n",
       "      <th></th>\n",
       "      <th>Unnamed: 0</th>\n",
       "      <th>movie_title</th>\n",
       "      <th>movie_stars</th>\n",
       "      <th>movie_ratings</th>\n",
       "      <th>release_year</th>\n",
       "      <th>movie_duration</th>\n",
       "      <th>movie_url</th>\n",
       "    </tr>\n",
       "  </thead>\n",
       "  <tbody>\n",
       "    <tr>\n",
       "      <th>0</th>\n",
       "      <td>0</td>\n",
       "      <td>The Shawshank Redemption</td>\n",
       "      <td>9.3</td>\n",
       "      <td>2800000</td>\n",
       "      <td>1994</td>\n",
       "      <td>2h 22m</td>\n",
       "      <td>https://www.imdb.com/title/tt0111161/?ref_=cht...</td>\n",
       "    </tr>\n",
       "    <tr>\n",
       "      <th>2</th>\n",
       "      <td>2</td>\n",
       "      <td>The Dark Knight</td>\n",
       "      <td>9.0</td>\n",
       "      <td>2800000</td>\n",
       "      <td>2008</td>\n",
       "      <td>2h 32m</td>\n",
       "      <td>https://www.imdb.com/title/tt0468569/?ref_=cht...</td>\n",
       "    </tr>\n",
       "    <tr>\n",
       "      <th>13</th>\n",
       "      <td>13</td>\n",
       "      <td>Inception</td>\n",
       "      <td>8.8</td>\n",
       "      <td>2500000</td>\n",
       "      <td>2010</td>\n",
       "      <td>2h 28m</td>\n",
       "      <td>https://www.imdb.com/title/tt1375666/?ref_=cht...</td>\n",
       "    </tr>\n",
       "    <tr>\n",
       "      <th>11</th>\n",
       "      <td>11</td>\n",
       "      <td>Fight Club</td>\n",
       "      <td>8.8</td>\n",
       "      <td>2300000</td>\n",
       "      <td>1999</td>\n",
       "      <td>2h 19m</td>\n",
       "      <td>https://www.imdb.com/title/tt0137523/?ref_=cht...</td>\n",
       "    </tr>\n",
       "    <tr>\n",
       "      <th>10</th>\n",
       "      <td>10</td>\n",
       "      <td>Forrest Gump</td>\n",
       "      <td>8.8</td>\n",
       "      <td>2200000</td>\n",
       "      <td>1994</td>\n",
       "      <td>2h 22m</td>\n",
       "      <td>https://www.imdb.com/title/tt0109830/?ref_=cht...</td>\n",
       "    </tr>\n",
       "  </tbody>\n",
       "</table>\n",
       "</div>"
      ],
      "text/plain": [
       "    Unnamed: 0                movie_title  movie_stars  movie_ratings  \\\n",
       "0            0   The Shawshank Redemption          9.3        2800000   \n",
       "2            2            The Dark Knight          9.0        2800000   \n",
       "13          13                  Inception          8.8        2500000   \n",
       "11          11                 Fight Club          8.8        2300000   \n",
       "10          10               Forrest Gump          8.8        2200000   \n",
       "\n",
       "    release_year movie_duration  \\\n",
       "0           1994         2h 22m   \n",
       "2           2008         2h 32m   \n",
       "13          2010         2h 28m   \n",
       "11          1999         2h 19m   \n",
       "10          1994         2h 22m   \n",
       "\n",
       "                                            movie_url  \n",
       "0   https://www.imdb.com/title/tt0111161/?ref_=cht...  \n",
       "2   https://www.imdb.com/title/tt0468569/?ref_=cht...  \n",
       "13  https://www.imdb.com/title/tt1375666/?ref_=cht...  \n",
       "11  https://www.imdb.com/title/tt0137523/?ref_=cht...  \n",
       "10  https://www.imdb.com/title/tt0109830/?ref_=cht...  "
      ]
     },
     "execution_count": 18,
     "metadata": {},
     "output_type": "execute_result"
    }
   ],
   "source": [
    "#Top 5 movies with highest ratings\n",
    "top5_rated_movies = df1.sort_values('movie_ratings', ascending = False).head(5)\n",
    "top5_rated_movies"
   ]
  },
  {
   "cell_type": "code",
   "execution_count": 19,
   "id": "c3347145",
   "metadata": {},
   "outputs": [
    {
     "data": {
      "image/png": "[encoded data removed]",
      "text/plain": [
       "<Figure size 1000x500 with 1 Axes>"
      ]
     },
     "metadata": {},
     "output_type": "display_data"
    }
   ],
   "source": [
    "#Visualization\n",
    "plt.figure(figsize = (10,5))\n",
    "plt.bar(x = 'movie_title', height = 'movie_ratings', data = top5_rated_movies)\n",
    "plt.title('Top5 Movies by Ratings')\n",
    "plt.xlabel('Title')\n",
    "plt.ylabel('Ratings')\n",
    "plt.xticks(rotation = 25)\n",
    "plt.show()"
   ]
  },
  {
   "cell_type": "code",
   "execution_count": 20,
   "id": "bbdaa9c2",
   "metadata": {},
   "outputs": [
    {
     "data": {
      "image/png": "[encoded data removed]",
      "text/plain": [
       "<Figure size 1000x500 with 1 Axes>"
      ]
     },
     "metadata": {},
     "output_type": "display_data"
    }
   ],
   "source": [
    "#Visualization with bar labels\n",
    "plt.figure(figsize = (10,5))\n",
    "bars = plt.bar(x = 'movie_title', height = 'movie_ratings', data = top5_rated_movies)\n",
    "# plt.bar_label(bars)\n",
    "plt.bar_label(bars, fmt='%.2f', label_type='edge', fontsize=8)\n",
    "plt.title('Top5 Movies by Ratings')\n",
    "plt.xlabel('Title')\n",
    "plt.ylabel('Ratings')\n",
    "plt.xticks(rotation = 25)\n",
    "plt.show()"
   ]
  },
  {
   "cell_type": "markdown",
   "id": "1c650574",
   "metadata": {},
   "source": [
    "### Movies released in 2000"
   ]
  },
  {
   "cell_type": "code",
   "execution_count": 21,
   "id": "0bde8f0b",
   "metadata": {},
   "outputs": [
    {
     "data": {
      "text/html": [
       "<div>\n",
       "<style scoped>\n",
       "    .dataframe tbody tr th:only-of-type {\n",
       "        vertical-align: middle;\n",
       "    }\n",
       "\n",
       "    .dataframe tbody tr th {\n",
       "        vertical-align: top;\n",
       "    }\n",
       "\n",
       "    .dataframe thead th {\n",
       "        text-align: right;\n",
       "    }\n",
       "</style>\n",
       "<table border=\"1\" class=\"dataframe\">\n",
       "  <thead>\n",
       "    <tr style=\"text-align: right;\">\n",
       "      <th></th>\n",
       "      <th>Unnamed: 0</th>\n",
       "      <th>movie_title</th>\n",
       "      <th>movie_stars</th>\n",
       "      <th>movie_ratings</th>\n",
       "      <th>release_year</th>\n",
       "      <th>movie_duration</th>\n",
       "      <th>movie_url</th>\n",
       "    </tr>\n",
       "  </thead>\n",
       "  <tbody>\n",
       "    <tr>\n",
       "      <th>35</th>\n",
       "      <td>35</td>\n",
       "      <td>Gladiator</td>\n",
       "      <td>8.5</td>\n",
       "      <td>1600000</td>\n",
       "      <td>2000</td>\n",
       "      <td>2h 35m</td>\n",
       "      <td>https://www.imdb.com/title/tt0172495/?ref_=cht...</td>\n",
       "    </tr>\n",
       "    <tr>\n",
       "      <th>55</th>\n",
       "      <td>55</td>\n",
       "      <td>Memento</td>\n",
       "      <td>8.4</td>\n",
       "      <td>1300000</td>\n",
       "      <td>2000</td>\n",
       "      <td>1h 53m</td>\n",
       "      <td>https://www.imdb.com/title/tt0209144/?ref_=cht...</td>\n",
       "    </tr>\n",
       "    <tr>\n",
       "      <th>88</th>\n",
       "      <td>88</td>\n",
       "      <td>Requiem for a Dream</td>\n",
       "      <td>8.3</td>\n",
       "      <td>883000</td>\n",
       "      <td>2000</td>\n",
       "      <td>1h 42m</td>\n",
       "      <td>https://www.imdb.com/title/tt0180093/?ref_=cht...</td>\n",
       "    </tr>\n",
       "    <tr>\n",
       "      <th>119</th>\n",
       "      <td>119</td>\n",
       "      <td>Snatch</td>\n",
       "      <td>8.2</td>\n",
       "      <td>894000</td>\n",
       "      <td>2000</td>\n",
       "      <td>1h 44m</td>\n",
       "      <td>https://www.imdb.com/title/tt0208092/?ref_=cht...</td>\n",
       "    </tr>\n",
       "    <tr>\n",
       "      <th>237</th>\n",
       "      <td>237</td>\n",
       "      <td>Amores perros</td>\n",
       "      <td>8.1</td>\n",
       "      <td>250000</td>\n",
       "      <td>2000</td>\n",
       "      <td>2h 34m</td>\n",
       "      <td>https://www.imdb.com/title/tt0245712/?ref_=cht...</td>\n",
       "    </tr>\n",
       "  </tbody>\n",
       "</table>\n",
       "</div>"
      ],
      "text/plain": [
       "     Unnamed: 0           movie_title  movie_stars  movie_ratings  \\\n",
       "35           35             Gladiator          8.5        1600000   \n",
       "55           55               Memento          8.4        1300000   \n",
       "88           88   Requiem for a Dream          8.3         883000   \n",
       "119         119                Snatch          8.2         894000   \n",
       "237         237         Amores perros          8.1         250000   \n",
       "\n",
       "     release_year movie_duration  \\\n",
       "35           2000         2h 35m   \n",
       "55           2000         1h 53m   \n",
       "88           2000         1h 42m   \n",
       "119          2000         1h 44m   \n",
       "237          2000         2h 34m   \n",
       "\n",
       "                                             movie_url  \n",
       "35   https://www.imdb.com/title/tt0172495/?ref_=cht...  \n",
       "55   https://www.imdb.com/title/tt0209144/?ref_=cht...  \n",
       "88   https://www.imdb.com/title/tt0180093/?ref_=cht...  \n",
       "119  https://www.imdb.com/title/tt0208092/?ref_=cht...  \n",
       "237  https://www.imdb.com/title/tt0245712/?ref_=cht...  "
      ]
     },
     "execution_count": 21,
     "metadata": {},
     "output_type": "execute_result"
    }
   ],
   "source": [
    "df1[df1['release_year'] == 2000]"
   ]
  },
  {
   "cell_type": "markdown",
   "id": "aa11c82d",
   "metadata": {},
   "source": [
    "### Movies released in 2000 and has ratings more than 1000000"
   ]
  },
  {
   "cell_type": "code",
   "execution_count": 22,
   "id": "c644f960",
   "metadata": {},
   "outputs": [
    {
     "data": {
      "text/html": [
       "<div>\n",
       "<style scoped>\n",
       "    .dataframe tbody tr th:only-of-type {\n",
       "        vertical-align: middle;\n",
       "    }\n",
       "\n",
       "    .dataframe tbody tr th {\n",
       "        vertical-align: top;\n",
       "    }\n",
       "\n",
       "    .dataframe thead th {\n",
       "        text-align: right;\n",
       "    }\n",
       "</style>\n",
       "<table border=\"1\" class=\"dataframe\">\n",
       "  <thead>\n",
       "    <tr style=\"text-align: right;\">\n",
       "      <th></th>\n",
       "      <th>Unnamed: 0</th>\n",
       "      <th>movie_title</th>\n",
       "      <th>movie_stars</th>\n",
       "      <th>movie_ratings</th>\n",
       "      <th>release_year</th>\n",
       "      <th>movie_duration</th>\n",
       "      <th>movie_url</th>\n",
       "    </tr>\n",
       "  </thead>\n",
       "  <tbody>\n",
       "    <tr>\n",
       "      <th>35</th>\n",
       "      <td>35</td>\n",
       "      <td>Gladiator</td>\n",
       "      <td>8.5</td>\n",
       "      <td>1600000</td>\n",
       "      <td>2000</td>\n",
       "      <td>2h 35m</td>\n",
       "      <td>https://www.imdb.com/title/tt0172495/?ref_=cht...</td>\n",
       "    </tr>\n",
       "    <tr>\n",
       "      <th>55</th>\n",
       "      <td>55</td>\n",
       "      <td>Memento</td>\n",
       "      <td>8.4</td>\n",
       "      <td>1300000</td>\n",
       "      <td>2000</td>\n",
       "      <td>1h 53m</td>\n",
       "      <td>https://www.imdb.com/title/tt0209144/?ref_=cht...</td>\n",
       "    </tr>\n",
       "  </tbody>\n",
       "</table>\n",
       "</div>"
      ],
      "text/plain": [
       "    Unnamed: 0 movie_title  movie_stars  movie_ratings  release_year  \\\n",
       "35          35   Gladiator          8.5        1600000          2000   \n",
       "55          55     Memento          8.4        1300000          2000   \n",
       "\n",
       "   movie_duration                                          movie_url  \n",
       "35         2h 35m  https://www.imdb.com/title/tt0172495/?ref_=cht...  \n",
       "55         1h 53m  https://www.imdb.com/title/tt0209144/?ref_=cht...  "
      ]
     },
     "execution_count": 22,
     "metadata": {},
     "output_type": "execute_result"
    }
   ],
   "source": [
    "df1[(df1['release_year'] == 2000) & (df1['movie_ratings'] >1000000)]"
   ]
  },
  {
   "cell_type": "markdown",
   "id": "acf6e481",
   "metadata": {},
   "source": [
    "### How many movies released each year in top 250 movies"
   ]
  },
  {
   "cell_type": "code",
   "execution_count": 23,
   "id": "09fa7c1a",
   "metadata": {},
   "outputs": [
    {
     "data": {
      "text/plain": [
       "release_year\n",
       "1995    8\n",
       "2004    7\n",
       "2003    6\n",
       "2009    6\n",
       "1957    6\n",
       "       ..\n",
       "1972    1\n",
       "1977    1\n",
       "1978    1\n",
       "1924    1\n",
       "1921    1\n",
       "Length: 87, dtype: int64"
      ]
     },
     "execution_count": 23,
     "metadata": {},
     "output_type": "execute_result"
    }
   ],
   "source": [
    "df1.value_counts('release_year', ascending = False)\n",
    "\n",
    "#df1.release_year.value_counts().sort_values(ascending = False)"
   ]
  },
  {
   "cell_type": "markdown",
   "id": "fb001b7c",
   "metadata": {},
   "source": [
    "### Top 10 years with highest movie release"
   ]
  },
  {
   "cell_type": "code",
   "execution_count": 24,
   "id": "eb3a9937",
   "metadata": {},
   "outputs": [],
   "source": [
    "top10_releaseYear = df1.value_counts('release_year', ascending = False).head(10)"
   ]
  },
  {
   "cell_type": "code",
   "execution_count": 25,
   "id": "0fca1df3",
   "metadata": {},
   "outputs": [
    {
     "data": {
      "image/png": "[encoded data removed]",
      "text/plain": [
       "<Figure size 1000x500 with 1 Axes>"
      ]
     },
     "metadata": {},
     "output_type": "display_data"
    }
   ],
   "source": [
    "#Visualization\n",
    "plt.figure(figsize = (10, 5) )\n",
    "sns.barplot(x = top10_releaseYear.index, y = top10_releaseYear.values)\n",
    "plt.title('Top10 years with highest movie release')\n",
    "plt.xlabel('Release Year')\n",
    "plt.ylabel('Movies')\n",
    "plt.xticks(rotation = 25)\n",
    "plt.show()"
   ]
  },
  {
   "cell_type": "markdown",
   "id": "7a7d0085",
   "metadata": {},
   "source": [
    "## Movie Recommendation based on year and stars"
   ]
  },
  {
   "cell_type": "code",
   "execution_count": 26,
   "id": "8e31f898",
   "metadata": {},
   "outputs": [
    {
     "name": "stdout",
     "output_type": "stream",
     "text": [
      "Release Year: 1995\n",
      "Movie stars should be or more than: 8.5\n"
     ]
    }
   ],
   "source": [
    "Year = int(input('Release Year: '))\n",
    "stars = float(input('Movie stars should be or more than: '))"
   ]
  },
  {
   "cell_type": "code",
   "execution_count": 27,
   "id": "812e9b48",
   "metadata": {},
   "outputs": [
    {
     "data": {
      "text/html": [
       "<div>\n",
       "<style scoped>\n",
       "    .dataframe tbody tr th:only-of-type {\n",
       "        vertical-align: middle;\n",
       "    }\n",
       "\n",
       "    .dataframe tbody tr th {\n",
       "        vertical-align: top;\n",
       "    }\n",
       "\n",
       "    .dataframe thead th {\n",
       "        text-align: right;\n",
       "    }\n",
       "</style>\n",
       "<table border=\"1\" class=\"dataframe\">\n",
       "  <thead>\n",
       "    <tr style=\"text-align: right;\">\n",
       "      <th></th>\n",
       "      <th>Unnamed: 0</th>\n",
       "      <th>movie_title</th>\n",
       "      <th>movie_stars</th>\n",
       "      <th>movie_ratings</th>\n",
       "      <th>release_year</th>\n",
       "      <th>movie_duration</th>\n",
       "      <th>movie_url</th>\n",
       "    </tr>\n",
       "  </thead>\n",
       "  <tbody>\n",
       "    <tr>\n",
       "      <th>18</th>\n",
       "      <td>18</td>\n",
       "      <td>Se7en</td>\n",
       "      <td>8.6</td>\n",
       "      <td>1800000</td>\n",
       "      <td>1995</td>\n",
       "      <td>2h 7m</td>\n",
       "      <td>https://www.imdb.com/title/tt0114369/?ref_=cht...</td>\n",
       "    </tr>\n",
       "    <tr>\n",
       "      <th>43</th>\n",
       "      <td>43</td>\n",
       "      <td>The Usual Suspects</td>\n",
       "      <td>8.5</td>\n",
       "      <td>1100000</td>\n",
       "      <td>1995</td>\n",
       "      <td>1h 46m</td>\n",
       "      <td>https://www.imdb.com/title/tt0114814/?ref_=cht...</td>\n",
       "    </tr>\n",
       "  </tbody>\n",
       "</table>\n",
       "</div>"
      ],
      "text/plain": [
       "    Unnamed: 0          movie_title  movie_stars  movie_ratings  release_year  \\\n",
       "18          18                Se7en          8.6        1800000          1995   \n",
       "43          43   The Usual Suspects          8.5        1100000          1995   \n",
       "\n",
       "   movie_duration                                          movie_url  \n",
       "18          2h 7m  https://www.imdb.com/title/tt0114369/?ref_=cht...  \n",
       "43         1h 46m  https://www.imdb.com/title/tt0114814/?ref_=cht...  "
      ]
     },
     "execution_count": 27,
     "metadata": {},
     "output_type": "execute_result"
    }
   ],
   "source": [
    "df1[(df1['release_year'] == Year) & (df1['movie_stars'] >= stars)]"
   ]
  },
  {
   "cell_type": "code",
   "execution_count": null,
   "id": "0f104e01",
   "metadata": {},
   "outputs": [],
   "source": []
  }
 ],
 "metadata": {
  "kernelspec": {
   "display_name": "Python 3 (ipykernel)",
   "language": "python",
   "name": "python3"
  },
  "language_info": {
   "codemirror_mode": {
    "name": "ipython",
    "version": 3
   },
   "file_extension": ".py",
   "mimetype": "text/x-python",
   "name": "python",
   "nbconvert_exporter": "python",
   "pygments_lexer": "ipython3",
   "version": "3.11.3"
  }
 },
 "nbformat": 4,
 "nbformat_minor": 5
}
